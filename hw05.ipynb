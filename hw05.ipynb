{
 "cells": [
  {
   "cell_type": "code",
   "execution_count": 23,
   "metadata": {
    "deletable": false,
    "editable": false
   },
   "outputs": [],
   "source": [
    "# Initialize Otter\n",
    "import otter\n",
    "grader = otter.Notebook(\"hw05.ipynb\")"
   ]
  },
  {
   "cell_type": "markdown",
   "metadata": {},
   "source": [
    "# HW 5A: Sampling\n",
    "## Due Date: Thursday, February 23rd, 11:59 PM\n",
    "\n",
    "You must submit this assignment to Gradescope by the on-time deadline, Thursday, February 23rd, 11:59 PM. Please read the syllabus for the grace period policy. No late\n",
    "submissions beyond the grace period will be accepted. While course staff is happy to help you if you encounter difficulties with submission, we may not be able to respond to last-minute requests for assistance (TAs need to sleep, after all!). **We strongly encourage you to plan to submit your work to Gradescope several hours before the stated deadline.** This way, you will have ample time to reach out to staff for submission support. \n",
    "\n",
    "This is part of a two-part assignment. After completing this part (\"Homework 5A\"), please read all instructions carefully to combine manually graded questions from Homework 5A with Homework 5B, and submit your work to both the coding and written portals of Gradescope.\n",
    "\n",
    "## Collaboration Policy\n",
    "\n",
    "Data science is a collaborative activity. While you may talk with others about\n",
    "the homework, we ask that you **write your solutions individually**. If you do\n",
    "discuss the assignments with others please **include their names** at the top\n",
    "of your notebook."
   ]
  },
  {
   "cell_type": "markdown",
   "metadata": {},
   "source": [
    "**Collaborators**: *list collaborators here*"
   ]
  },
  {
   "cell_type": "markdown",
   "metadata": {},
   "source": [
    "## This Assignment\n",
    "\n",
    "The purpose of this assignment is for you to combine Python, math, and the ideas in Data 8 to draw some interesting conclusions. The methods and results will help build the foundation of Data 100.\n",
    "\n",
    "## Score Breakdown\n",
    "Question | Manual? | Points\n",
    "--- | --- | --\n",
    "1ai | No | 1\n",
    "1aii | No | 1\n",
    "1bi | No | 1\n",
    "1bii | No | 1\n",
    "1biii | No | 1\n",
    "1biv | No | 1\n",
    "2a | No | 2\n",
    "2b | Yes | 2\n",
    "2c | Yes | 3\n",
    "2d | Yes | 2\n",
    "Total | 3 | 15\n"
   ]
  },
  {
   "cell_type": "markdown",
   "metadata": {},
   "source": [
    "### Initialize your environment"
   ]
  },
  {
   "cell_type": "code",
   "execution_count": 24,
   "metadata": {},
   "outputs": [],
   "source": [
    "import numpy as np\n",
    "np.random.seed(200)\n",
    "import matplotlib\n",
    "import matplotlib.pyplot as plt\n",
    "import seaborn as sns\n",
    "plt.style.use('fivethirtyeight')"
   ]
  },
  {
   "cell_type": "markdown",
   "metadata": {},
   "source": [
    "<br/><br/>\n",
    "<hr style=\"border: 5px solid #003262;\" />\n",
    "<hr style=\"border: 1px solid #fdb515;\" />\n",
    "\n",
    "## Data 100's Cutest Pet Dog Photo?\n",
    "\n",
    "The Data 100 course staff wants to host a Cutest Pet Dog Photo contest for the Data C100/C200 class. Suppose the following three pet dog photos are in contention:\n",
    "\n",
    "<img src='images/Venecia.jpg' width=\"180px\" /> <img src='images/Mimi.jpg' width=\"170px\" /> <img src='images/Beck.jpg' width=\"180px\" />\n",
    "\n",
    "**(From left to right) Venecia, Mimi, and Beck.**\n",
    "\n",
    "Suppose that this contest will be held during the final exam, where all students will vote on the cutest pet dog photo. **Before the actual contest**, however, earlier in the semester the course staff would like to predict the results by surveying students in the class. This process is similar to polling that occurs before a political election.\n",
    "\n",
    "In this section, you are going to explore different methods to sampling and data collection methods.\n",
    "\n",
    "<br/><br/>\n",
    "\n",
    "\n",
    "<hr style=\"border: 1px solid #fdb515;\" />\n",
    "\n",
    "## Question 1"
   ]
  },
  {
   "cell_type": "markdown",
   "metadata": {
    "tags": []
   },
   "source": [
    "<br><br>\n",
    "\n",
    "---\n",
    "\n",
    "### Question 1a\n",
    "\n",
    "One of the Head TAs, Bella, would like to understand the class opinion before the contest actually takes place. In this coming week, Bella decides to survey all students before the contest by sending out an email via bCourses asking all students enrolled in Data C100/200 to chooce the cutest from the three pet choices. You may assume no other students/users receive the survey. Bella closes the survey 12 hours after sending it out."
   ]
  },
  {
   "cell_type": "markdown",
   "metadata": {},
   "source": [
    "**Part 1**. Which of the following is the population of interest? Assign your answer choice to `q1ai` (e.g., `'A'`, `'B'`, etc.).\n",
    "\n",
    "A. UC Berkeley students<br/>\n",
    "B. Data C100 students only</br>\n",
    "C. Data C100/C200 students<br/>\n",
    "D. Bella's discussion section<br/>\n",
    "E. All students who fill out Bella's survey"
   ]
  },
  {
   "cell_type": "code",
   "execution_count": 25,
   "metadata": {
    "tags": []
   },
   "outputs": [],
   "source": [
    "q1ai = 'C'"
   ]
  },
  {
   "cell_type": "code",
   "execution_count": 26,
   "metadata": {
    "deletable": false,
    "editable": false
   },
   "outputs": [
    {
     "data": {
      "text/html": [
       "<p><strong><pre style='display: inline;'>q1ai</pre></strong> passed!</p>"
      ],
      "text/plain": [
       "q1ai results: All test cases passed!"
      ]
     },
     "execution_count": 26,
     "metadata": {},
     "output_type": "execute_result"
    }
   ],
   "source": [
    "grader.check(\"q1ai\")"
   ]
  },
  {
   "cell_type": "markdown",
   "metadata": {},
   "source": [
    "\n",
    "**Part 2**. Which of the following is the sampling frame? Assign your answer choice to `q1aii` (e.g., `'A'`, `'B'`, etc.).\n",
    "\n",
    "A. UC Berkeley students<br/>\n",
    "B. Data C100 students only</br>\n",
    "C. Data C100/C200 students<br/>\n",
    "D. Bella's discussion section<br/>\n",
    "E. All students who fill out Bella's survey"
   ]
  },
  {
   "cell_type": "code",
   "execution_count": 27,
   "metadata": {
    "tags": []
   },
   "outputs": [],
   "source": [
    "q1aii = 'C'"
   ]
  },
  {
   "cell_type": "code",
   "execution_count": 28,
   "metadata": {
    "deletable": false,
    "editable": false
   },
   "outputs": [
    {
     "data": {
      "text/html": [
       "<p><strong><pre style='display: inline;'>q1aii</pre></strong> passed!</p>"
      ],
      "text/plain": [
       "q1aii results: All test cases passed!"
      ]
     },
     "execution_count": 28,
     "metadata": {},
     "output_type": "execute_result"
    }
   ],
   "source": [
    "grader.check(\"q1aii\")"
   ]
  },
  {
   "cell_type": "markdown",
   "metadata": {},
   "source": [
    "\n",
    "\n",
    "**Part 3**. Which of the following is the sample? Assign your answer choice to `q1biii` (e.g., `'A'`, `'B'`, etc.).\n",
    "\n",
    "A. UC Berkeley students<br/>\n",
    "B. Data C100 students only</br>\n",
    "C. Data C100/C200 students<br/>\n",
    "D. Bella's discussion section<br/>\n",
    "E. All students who fill out Bella's survey"
   ]
  },
  {
   "cell_type": "code",
   "execution_count": 29,
   "metadata": {
    "tags": []
   },
   "outputs": [],
   "source": [
    "q1biii = 'C'"
   ]
  },
  {
   "cell_type": "code",
   "execution_count": 30,
   "metadata": {
    "deletable": false,
    "editable": false
   },
   "outputs": [
    {
     "data": {
      "text/html": [
       "<p><strong><pre style='display: inline;'>q1aiii</pre></strong> passed!</p>"
      ],
      "text/plain": [
       "q1aiii results: All test cases passed!"
      ]
     },
     "execution_count": 30,
     "metadata": {},
     "output_type": "execute_result"
    }
   ],
   "source": [
    "grader.check(\"q1aiii\")"
   ]
  },
  {
   "cell_type": "markdown",
   "metadata": {
    "tags": []
   },
   "source": [
    "<br><br>\n",
    "\n",
    "---\n",
    "\n",
    "### Question 1b\n",
    "\n",
    "In practice, we cannot get 100\\% survey response rate, often because our population is too large, or because there is a time limit. In this case, very few students answer Bella's survey before she closes it.\n",
    "\n",
    "To get more data to predict the answer to the original question (\"Data 100's Cutest Pet Dog Photo?\"), Bella decides on a different strategy: She conducts the pre-contest survey synchronously and in-person among her discussion section students that same week. Bella conducts the survey by presenting the following slide:\n",
    "\n",
    "<img src='images/survey.jpg' width=\"600px\" />\n",
    "\n",
    "She then asks every student who attends discussion that week for their opinion on the cutest of the three pets. Assume that all of Bella's students show up for discussion that week and answer the survey.\n",
    "\n",
    "\n",
    "**Part I:** Which of the following is the population of interest? Assign your answer choice to `q1bi` (e.g., `'A'`, `'B'`, etc.).\n",
    "\n",
    "A. UC Berkeley students<br/>\n",
    "B. Data C100 students</br>\n",
    "C. Data C100/C200 students<br/>\n",
    "D. Bella's discussion section students<br/>\n",
    "E. All students who fill out Bella's survey"
   ]
  },
  {
   "cell_type": "code",
   "execution_count": 31,
   "metadata": {
    "tags": []
   },
   "outputs": [],
   "source": [
    "q1bi = 'D'"
   ]
  },
  {
   "cell_type": "code",
   "execution_count": 32,
   "metadata": {
    "deletable": false,
    "editable": false
   },
   "outputs": [
    {
     "data": {
      "text/html": [
       "<p><strong><pre style='display: inline;'>q1bi</pre></strong> passed!</p>"
      ],
      "text/plain": [
       "q1bi results: All test cases passed!"
      ]
     },
     "execution_count": 32,
     "metadata": {},
     "output_type": "execute_result"
    }
   ],
   "source": [
    "grader.check(\"q1bi\")"
   ]
  },
  {
   "cell_type": "markdown",
   "metadata": {},
   "source": [
    "\n",
    "**Part II:** Which of the following is the sampling frame? Assign your answer choice to `q2bii` (e.g., `'A'`, `'B'`, etc.).\n",
    "\n",
    "A. UC Berkeley students<br/>\n",
    "B. Data C100 students</br>\n",
    "C. Data C100/C200 students<br/>\n",
    "D. Bella's discussion section students<br/>\n",
    "E. All students who fill out Bella's survey"
   ]
  },
  {
   "cell_type": "code",
   "execution_count": 33,
   "metadata": {
    "tags": []
   },
   "outputs": [],
   "source": [
    "q1bii = 'D'"
   ]
  },
  {
   "cell_type": "code",
   "execution_count": 34,
   "metadata": {
    "deletable": false,
    "editable": false
   },
   "outputs": [
    {
     "data": {
      "text/html": [
       "<p><strong><pre style='display: inline;'>q1bii</pre></strong> passed!</p>"
      ],
      "text/plain": [
       "q1bii results: All test cases passed!"
      ]
     },
     "execution_count": 34,
     "metadata": {},
     "output_type": "execute_result"
    }
   ],
   "source": [
    "grader.check(\"q1bii\")"
   ]
  },
  {
   "cell_type": "markdown",
   "metadata": {},
   "source": [
    "\n",
    "**Part III:** Which of the following is the sample? Assign your answer choice to `q2bii` (e.g., `'A'`, `'B'`, etc.).\n",
    "\n",
    "A. UC Berkeley students<br/>\n",
    "B. Data C100 students</br>\n",
    "C. Data C100/C200 students<br/>\n",
    "D. Bella's discussion section students<br/>\n",
    "E. All students who fill out Bella's survey"
   ]
  },
  {
   "cell_type": "code",
   "execution_count": 35,
   "metadata": {
    "tags": []
   },
   "outputs": [],
   "source": [
    "q1biii = 'D'"
   ]
  },
  {
   "cell_type": "code",
   "execution_count": 36,
   "metadata": {
    "deletable": false,
    "editable": false
   },
   "outputs": [
    {
     "data": {
      "text/html": [
       "<p><strong><pre style='display: inline;'>q1biii</pre></strong> passed!</p>"
      ],
      "text/plain": [
       "q1biii results: All test cases passed!"
      ]
     },
     "execution_count": 36,
     "metadata": {},
     "output_type": "execute_result"
    }
   ],
   "source": [
    "grader.check(\"q1biii\")"
   ]
  },
  {
   "cell_type": "markdown",
   "metadata": {},
   "source": [
    "**Part IV:** Which of the following best describes the sample? Assign your answer choice to `q1biv`  (e.g., `'A'`, `'B'`, etc.)..\n",
    "\n",
    "A. Probability Sample<br/>\n",
    "B. Simple Random Sample<br/>\n",
    "C. Convenience Sample"
   ]
  },
  {
   "cell_type": "code",
   "execution_count": 37,
   "metadata": {
    "tags": []
   },
   "outputs": [],
   "source": [
    "q1biv = 'C'"
   ]
  },
  {
   "cell_type": "code",
   "execution_count": 38,
   "metadata": {
    "deletable": false,
    "editable": false
   },
   "outputs": [
    {
     "data": {
      "text/html": [
       "<p><strong><pre style='display: inline;'>q1biv</pre></strong> passed!</p>"
      ],
      "text/plain": [
       "q1biv results: All test cases passed!"
      ]
     },
     "execution_count": 38,
     "metadata": {},
     "output_type": "execute_result"
    }
   ],
   "source": [
    "grader.check(\"q1biv\")"
   ]
  },
  {
   "cell_type": "markdown",
   "metadata": {
    "tags": []
   },
   "source": [
    "<br><br>\n",
    "\n",
    "<hr style=\"border: 1px solid #fdb515;\" />\n",
    "\n",
    "\n",
    "## Question 2\n",
    "Suppose that Bella was able to sample 50 students in her section, where the distribution of cutests pets is: **2% Venecia,  43% Mimi, and 57% Beck**. This is our **sample distribution.** Based on this result, Bella predicts that Beck will win the contest.\n",
    "\n",
    "Let us fast-forward to the end of the semester, where the contest has actually taken place. Assume that after tallying every student's votes in the entire class, the true popularity of each pet dog photo is: **8% Venecia, 53% Mimi, and 39% Beck**. This is our **population distribution**. The true winner was actually Mimi!\n",
    "\n",
    "---\n",
    "\n",
    "### Question 2a\n",
    "\n",
    "With the true population distribution we know that Mimi ultimately wins the Cutest Pet Dog Photo Contest, but from Bella's results, it was predicted that Beck would have won. Perhaps there was some underlying issue with Bella's discussion section sampling process...\n",
    "\n",
    "Probability samples can help us quantify sampling bias and chance error. Put briefly, if we assume that a sample distribution was selected at random from a known population, then we can quantify how likely that sample is to have arisen due to random chance (**chance error**). If the difference in sample and population distributions is too great, then we suspect that the given sample has **bias** in how it was selected from the population.\n",
    "\n",
    "Write one line of code that runs 1000 independent simulations, where each simulation finds the proportion of voters who voted **Mimi** for in a sample of size 50, selected uniformly at random from the true population. You may assume that the true population is large enough such that the sample is a random sample with replacement. The output `samples` should be an array with 1000 elements, each of which is the proportion of **Mimi** votes in that simulated sample.\n",
    "\n",
    "**Hint**: \n",
    "\n",
    "* Use `np.random.multinomial` ([documentation](https://numpy.org/doc/stable/reference/random/generated/numpy.random.multinomial.html)).\n",
    "* Use `array[:, i]` to select the ith column of a 2D numpy array\n",
    "* Feel free to print out `samples` or `samples.shape` to check the output!"
   ]
  },
  {
   "cell_type": "code",
   "execution_count": 39,
   "metadata": {
    "tags": []
   },
   "outputs": [
    {
     "data": {
      "text/plain": [
       "array([0.52, 0.4 , 0.52, 0.32, 0.3 , 0.36, 0.5 , 0.5 , 0.46, 0.26, 0.44,\n",
       "       0.46, 0.36, 0.38, 0.44, 0.48, 0.44, 0.26, 0.52, 0.44, 0.34, 0.42,\n",
       "       0.48, 0.54, 0.32, 0.36, 0.3 , 0.42, 0.36, 0.26, 0.38, 0.32, 0.36,\n",
       "       0.3 , 0.36, 0.32, 0.36, 0.38, 0.24, 0.48, 0.4 , 0.4 , 0.3 , 0.4 ,\n",
       "       0.36, 0.34, 0.28, 0.44, 0.46, 0.46, 0.3 , 0.44, 0.26, 0.28, 0.3 ,\n",
       "       0.48, 0.56, 0.44, 0.52, 0.32, 0.44, 0.5 , 0.32, 0.22, 0.34, 0.4 ,\n",
       "       0.5 , 0.4 , 0.3 , 0.36, 0.48, 0.48, 0.48, 0.48, 0.42, 0.48, 0.3 ,\n",
       "       0.28, 0.3 , 0.34, 0.42, 0.3 , 0.42, 0.42, 0.44, 0.46, 0.38, 0.44,\n",
       "       0.3 , 0.34, 0.44, 0.36, 0.42, 0.42, 0.32, 0.44, 0.24, 0.52, 0.4 ,\n",
       "       0.3 , 0.32, 0.44, 0.36, 0.32, 0.48, 0.36, 0.4 , 0.28, 0.42, 0.42,\n",
       "       0.4 , 0.32, 0.52, 0.32, 0.4 , 0.32, 0.42, 0.38, 0.5 , 0.32, 0.36,\n",
       "       0.34, 0.32, 0.32, 0.4 , 0.46, 0.42, 0.56, 0.44, 0.32, 0.32, 0.38,\n",
       "       0.34, 0.34, 0.32, 0.44, 0.38, 0.42, 0.3 , 0.24, 0.46, 0.36, 0.42,\n",
       "       0.34, 0.26, 0.32, 0.4 , 0.48, 0.42, 0.32, 0.36, 0.34, 0.36, 0.38,\n",
       "       0.42, 0.38, 0.48, 0.4 , 0.42, 0.28, 0.3 , 0.48, 0.46, 0.58, 0.4 ,\n",
       "       0.38, 0.4 , 0.44, 0.32, 0.4 , 0.3 , 0.44, 0.38, 0.42, 0.44, 0.28,\n",
       "       0.32, 0.42, 0.4 , 0.38, 0.4 , 0.54, 0.34, 0.28, 0.42, 0.34, 0.38,\n",
       "       0.48, 0.48, 0.44, 0.42, 0.4 , 0.42, 0.42, 0.34, 0.28, 0.34, 0.32,\n",
       "       0.32, 0.38, 0.32, 0.46, 0.44, 0.24, 0.44, 0.34, 0.42, 0.38, 0.42,\n",
       "       0.34, 0.3 , 0.46, 0.58, 0.46, 0.5 , 0.52, 0.4 , 0.34, 0.36, 0.4 ,\n",
       "       0.44, 0.5 , 0.46, 0.5 , 0.34, 0.3 , 0.26, 0.44, 0.42, 0.5 , 0.34,\n",
       "       0.42, 0.46, 0.4 , 0.44, 0.3 , 0.42, 0.4 , 0.38, 0.36, 0.46, 0.34,\n",
       "       0.42, 0.54, 0.48, 0.54, 0.42, 0.36, 0.3 , 0.32, 0.3 , 0.36, 0.36,\n",
       "       0.42, 0.32, 0.38, 0.38, 0.4 , 0.4 , 0.36, 0.38, 0.34, 0.44, 0.32,\n",
       "       0.38, 0.48, 0.46, 0.32, 0.38, 0.28, 0.36, 0.32, 0.32, 0.52, 0.4 ,\n",
       "       0.46, 0.44, 0.26, 0.44, 0.38, 0.42, 0.34, 0.32, 0.48, 0.38, 0.46,\n",
       "       0.36, 0.44, 0.4 , 0.42, 0.34, 0.42, 0.4 , 0.24, 0.4 , 0.4 , 0.24,\n",
       "       0.44, 0.38, 0.3 , 0.4 , 0.36, 0.5 , 0.32, 0.32, 0.34, 0.4 , 0.42,\n",
       "       0.42, 0.32, 0.44, 0.48, 0.48, 0.5 , 0.38, 0.42, 0.3 , 0.42, 0.36,\n",
       "       0.46, 0.28, 0.38, 0.38, 0.44, 0.38, 0.28, 0.4 , 0.32, 0.52, 0.38,\n",
       "       0.38, 0.26, 0.5 , 0.3 , 0.42, 0.24, 0.32, 0.46, 0.38, 0.54, 0.42,\n",
       "       0.42, 0.34, 0.42, 0.48, 0.32, 0.34, 0.4 , 0.3 , 0.4 , 0.38, 0.38,\n",
       "       0.44, 0.38, 0.44, 0.44, 0.38, 0.46, 0.46, 0.42, 0.34, 0.46, 0.26,\n",
       "       0.38, 0.34, 0.34, 0.5 , 0.34, 0.42, 0.28, 0.48, 0.32, 0.32, 0.4 ,\n",
       "       0.34, 0.46, 0.4 , 0.48, 0.42, 0.46, 0.44, 0.38, 0.28, 0.36, 0.34,\n",
       "       0.32, 0.56, 0.3 , 0.4 , 0.44, 0.4 , 0.34, 0.28, 0.46, 0.38, 0.36,\n",
       "       0.5 , 0.34, 0.28, 0.36, 0.38, 0.52, 0.54, 0.36, 0.3 , 0.34, 0.36,\n",
       "       0.46, 0.4 , 0.44, 0.44, 0.52, 0.36, 0.5 , 0.48, 0.28, 0.38, 0.3 ,\n",
       "       0.32, 0.36, 0.46, 0.42, 0.46, 0.44, 0.4 , 0.38, 0.36, 0.44, 0.38,\n",
       "       0.36, 0.34, 0.34, 0.44, 0.46, 0.4 , 0.4 , 0.42, 0.44, 0.38, 0.4 ,\n",
       "       0.42, 0.44, 0.34, 0.46, 0.34, 0.38, 0.44, 0.38, 0.3 , 0.48, 0.46,\n",
       "       0.38, 0.38, 0.32, 0.36, 0.34, 0.52, 0.38, 0.42, 0.44, 0.48, 0.5 ,\n",
       "       0.5 , 0.46, 0.36, 0.38, 0.3 , 0.44, 0.38, 0.34, 0.4 , 0.32, 0.5 ,\n",
       "       0.42, 0.4 , 0.44, 0.34, 0.42, 0.38, 0.44, 0.3 , 0.26, 0.32, 0.34,\n",
       "       0.5 , 0.26, 0.44, 0.34, 0.46, 0.28, 0.44, 0.48, 0.32, 0.36, 0.34,\n",
       "       0.38, 0.46, 0.5 , 0.36, 0.5 , 0.32, 0.34, 0.4 , 0.36, 0.48, 0.36,\n",
       "       0.32, 0.38, 0.32, 0.48, 0.36, 0.3 , 0.24, 0.4 , 0.42, 0.2 , 0.42,\n",
       "       0.28, 0.4 , 0.32, 0.42, 0.46, 0.3 , 0.36, 0.38, 0.48, 0.44, 0.44,\n",
       "       0.32, 0.44, 0.42, 0.36, 0.46, 0.48, 0.36, 0.32, 0.3 , 0.48, 0.48,\n",
       "       0.4 , 0.34, 0.36, 0.5 , 0.34, 0.38, 0.34, 0.42, 0.36, 0.48, 0.34,\n",
       "       0.3 , 0.4 , 0.38, 0.44, 0.46, 0.34, 0.42, 0.42, 0.4 , 0.4 , 0.44,\n",
       "       0.4 , 0.5 , 0.34, 0.36, 0.44, 0.3 , 0.36, 0.32, 0.26, 0.4 , 0.6 ,\n",
       "       0.58, 0.46, 0.4 , 0.36, 0.3 , 0.34, 0.46, 0.5 , 0.5 , 0.36, 0.36,\n",
       "       0.46, 0.42, 0.32, 0.34, 0.36, 0.42, 0.44, 0.32, 0.46, 0.42, 0.34,\n",
       "       0.32, 0.36, 0.34, 0.46, 0.34, 0.52, 0.48, 0.38, 0.36, 0.46, 0.34,\n",
       "       0.38, 0.26, 0.28, 0.32, 0.4 , 0.32, 0.36, 0.3 , 0.36, 0.42, 0.34,\n",
       "       0.4 , 0.46, 0.34, 0.28, 0.44, 0.6 , 0.38, 0.3 , 0.38, 0.42, 0.3 ,\n",
       "       0.4 , 0.46, 0.44, 0.48, 0.46, 0.46, 0.48, 0.38, 0.28, 0.34, 0.38,\n",
       "       0.42, 0.42, 0.46, 0.44, 0.46, 0.46, 0.4 , 0.44, 0.56, 0.44, 0.46,\n",
       "       0.58, 0.44, 0.46, 0.46, 0.34, 0.46, 0.38, 0.36, 0.4 , 0.46, 0.42,\n",
       "       0.36, 0.38, 0.4 , 0.46, 0.3 , 0.42, 0.4 , 0.48, 0.36, 0.38, 0.34,\n",
       "       0.42, 0.52, 0.36, 0.3 , 0.42, 0.4 , 0.42, 0.48, 0.44, 0.44, 0.5 ,\n",
       "       0.42, 0.4 , 0.38, 0.32, 0.46, 0.38, 0.4 , 0.58, 0.36, 0.58, 0.4 ,\n",
       "       0.44, 0.28, 0.4 , 0.52, 0.42, 0.3 , 0.38, 0.36, 0.48, 0.42, 0.38,\n",
       "       0.42, 0.28, 0.34, 0.5 , 0.36, 0.32, 0.48, 0.44, 0.44, 0.28, 0.36,\n",
       "       0.46, 0.42, 0.54, 0.46, 0.46, 0.5 , 0.42, 0.44, 0.32, 0.52, 0.4 ,\n",
       "       0.28, 0.3 , 0.36, 0.42, 0.4 , 0.38, 0.48, 0.34, 0.34, 0.36, 0.36,\n",
       "       0.48, 0.42, 0.28, 0.64, 0.4 , 0.28, 0.36, 0.36, 0.36, 0.5 , 0.4 ,\n",
       "       0.38, 0.32, 0.5 , 0.38, 0.5 , 0.36, 0.38, 0.22, 0.44, 0.4 , 0.26,\n",
       "       0.44, 0.32, 0.42, 0.42, 0.42, 0.26, 0.54, 0.38, 0.34, 0.44, 0.34,\n",
       "       0.52, 0.24, 0.4 , 0.34, 0.24, 0.34, 0.22, 0.3 , 0.38, 0.4 , 0.4 ,\n",
       "       0.34, 0.46, 0.4 , 0.46, 0.44, 0.44, 0.32, 0.44, 0.24, 0.44, 0.36,\n",
       "       0.42, 0.42, 0.38, 0.36, 0.36, 0.32, 0.48, 0.48, 0.42, 0.4 , 0.42,\n",
       "       0.42, 0.44, 0.5 , 0.44, 0.4 , 0.46, 0.22, 0.32, 0.32, 0.32, 0.46,\n",
       "       0.4 , 0.44, 0.32, 0.34, 0.4 , 0.5 , 0.34, 0.34, 0.44, 0.38, 0.36,\n",
       "       0.42, 0.52, 0.34, 0.34, 0.44, 0.42, 0.44, 0.34, 0.44, 0.46, 0.5 ,\n",
       "       0.4 , 0.44, 0.4 , 0.52, 0.44, 0.32, 0.3 , 0.46, 0.28, 0.42, 0.38,\n",
       "       0.34, 0.34, 0.34, 0.3 , 0.3 , 0.32, 0.42, 0.42, 0.38, 0.44, 0.34,\n",
       "       0.4 , 0.4 , 0.38, 0.48, 0.24, 0.28, 0.5 , 0.24, 0.4 , 0.4 , 0.36,\n",
       "       0.34, 0.4 , 0.46, 0.38, 0.46, 0.44, 0.44, 0.38, 0.46, 0.36, 0.44,\n",
       "       0.38, 0.3 , 0.46, 0.26, 0.26, 0.42, 0.36, 0.42, 0.5 , 0.38, 0.38,\n",
       "       0.3 , 0.52, 0.48, 0.4 , 0.36, 0.36, 0.38, 0.36, 0.34, 0.34, 0.42,\n",
       "       0.38, 0.34, 0.44, 0.42, 0.42, 0.42, 0.36, 0.38, 0.4 , 0.36, 0.48,\n",
       "       0.36, 0.4 , 0.42, 0.32, 0.52, 0.38, 0.44, 0.42, 0.3 , 0.38, 0.44,\n",
       "       0.38, 0.38, 0.5 , 0.32, 0.44, 0.24, 0.28, 0.34, 0.4 , 0.34, 0.44,\n",
       "       0.38, 0.5 , 0.46, 0.42, 0.44, 0.42, 0.42, 0.46, 0.46, 0.4 , 0.36,\n",
       "       0.4 , 0.5 , 0.44, 0.4 , 0.4 , 0.44, 0.36, 0.32, 0.38, 0.44, 0.46,\n",
       "       0.36, 0.48, 0.42, 0.42, 0.4 , 0.44, 0.4 , 0.44, 0.42, 0.46, 0.4 ,\n",
       "       0.5 , 0.34, 0.42, 0.4 , 0.4 , 0.4 , 0.3 , 0.22, 0.34, 0.48, 0.36,\n",
       "       0.42, 0.38, 0.44, 0.4 , 0.28, 0.5 , 0.44, 0.48, 0.36, 0.28, 0.48,\n",
       "       0.42, 0.4 , 0.54, 0.32, 0.38, 0.36, 0.32, 0.44, 0.36, 0.48])"
      ]
     },
     "execution_count": 39,
     "metadata": {},
     "output_type": "execute_result"
    }
   ],
   "source": [
    "samples = np.array([np.random.multinomial(50, [0.53, 0.39, 0.08])[1]/50 for i in range(1000)])\n",
    "samples"
   ]
  },
  {
   "cell_type": "code",
   "execution_count": 40,
   "metadata": {
    "deletable": false,
    "editable": false
   },
   "outputs": [
    {
     "data": {
      "text/html": [
       "<p><strong><pre style='display: inline;'>q2a</pre></strong> passed!</p>"
      ],
      "text/plain": [
       "q2a results: All test cases passed!"
      ]
     },
     "execution_count": 40,
     "metadata": {},
     "output_type": "execute_result"
    }
   ],
   "source": [
    "grader.check(\"q2a\")"
   ]
  },
  {
   "cell_type": "markdown",
   "metadata": {
    "tags": []
   },
   "source": [
    "<!-- BEGIN QUESTION -->\n",
    "\n",
    "<br><br>\n",
    "\n",
    "---\n",
    "\n",
    "### Question 2b\n",
    "\n",
    "Create a plot using any `seaborn` and/or `matplotlib.pyplot` functions of your choice function of your choice to visualize `samples`, which is the simulated distribution of a sample Mimi vote. Include descriptive title and labels. An example is included below. The total area under the plot must be normalized to 1. Your plot may not match exactly to ours due to randomness of the data generating process.\n",
    "\n",
    "<img src='images/q2b.png' width=\"500px\" />"
   ]
  },
  {
   "cell_type": "code",
   "execution_count": 41,
   "metadata": {
    "tags": []
   },
   "outputs": [
    {
     "data": {
      "image/png": "[encoded data removed]",
      "text/plain": [
       "<Figure size 640x480 with 1 Axes>"
      ]
     },
     "metadata": {},
     "output_type": "display_data"
    }
   ],
   "source": [
    "sns.histplot(samples, kde = False, bins = 20, stat = \"count\")\n",
    "plt.xlabel(\"proportion of Mimi voters\")\n",
    "plt.ylabel(\"count\")\n",
    "plt.title(\"Distribution of sampled Mimi vote\")\n",
    "plt.xlim(0.0, 1.0)\n",
    "plt.show()"
   ]
  },
  {
   "cell_type": "markdown",
   "metadata": {
    "tags": []
   },
   "source": [
    "<!-- END QUESTION -->\n",
    "\n",
    "<!-- BEGIN QUESTION -->\n",
    "\n",
    "<br><br>\n",
    "\n",
    "---\n",
    "\n",
    "### Question 2c\n",
    "\n",
    "According to Bella's own 50-person sample, 43\\% of her discussion section reported that they would vote for Mimi in the end-of-semester contest.\n",
    "\n",
    "In the cell below, create a plot using any `seaborn` and/or `matplotlib.pyplot` functions of your choice to visualize Bella's sample statistic superimposed on the simulated sample distribution you plotted in the previous part. In other words, include a vertical line that passes through 43\\%, a vertical line that passes through the mean fo the simulated sample distribution, and the simulated sample distribution itself. You should choose contrasting colors and include descriptive title, labels and a legend if needed. An example is included below.\n",
    "\n",
    "<img src='images/q2c.png' width=\"500px\" />"
   ]
  },
  {
   "cell_type": "code",
   "execution_count": 42,
   "metadata": {
    "tags": []
   },
   "outputs": [
    {
     "data": {
      "image/png": "[encoded data removed]",
      "text/plain": [
       "<Figure size 640x480 with 1 Axes>"
      ]
     },
     "metadata": {},
     "output_type": "display_data"
    }
   ],
   "source": [
    "bella_sample = 0.43\n",
    "sns.histplot(samples, kde = False, bins = 20, stat = \"percent\", label = \"simulation\")\n",
    "plt.axvline(bella_sample, color = \"orange\", linestyle = \"-\", label = \"Bella's Sample\")\n",
    "plt.axvline(np.mean(samples), linestyle = \"-\")\n",
    "plt.xlabel(\"proportion of Mimi voters\")\n",
    "plt.ylabel(\"percent\")\n",
    "plt.title(\"Distribution of sampled Mimi vote\")\n",
    "plt.legend()\n",
    "plt.show()"
   ]
  },
  {
   "cell_type": "markdown",
   "metadata": {},
   "source": [
    "<!-- END QUESTION -->\n",
    "\n",
    "<!-- BEGIN QUESTION -->\n",
    "\n",
    "<br><br>\n",
    "\n",
    "---\n",
    "\n",
    "### Question 2d\n",
    "\n",
    "Based on your analysis above, could Bella's result have arisen due to chance? If not, what could be a potential source of bias?"
   ]
  },
  {
   "cell_type": "markdown",
   "metadata": {},
   "source": [
    "According to the second histogram, it appears that Bella's sample is significantly lower than the mean of the simulated distribution. However, we can't determine if Bella's were due to chance without a hypothesis test. A potential source of bias for Bella's sample that it was not random and representative of the Data 100 population. This may be attributed to the difference in demographic of students that attend Bella's section and the general student population. In addition, Bella's sample size might be too small, which would lead to potential sampling error. Finally, it's possbile that there might be a missing variable that hasn't been taken into account that has significantly impacted Bella's sample. In retrospect, we need to be mindful when interpreting Bella's results as there may be bias. "
   ]
  },
  {
   "cell_type": "markdown",
   "metadata": {},
   "source": [
    "<!-- END QUESTION -->\n",
    "\n",
    "<br/><br/>\n",
    "<hr style=\"border: 5px solid #003262;\" />\n",
    "<hr style=\"border: 1px solid #fdb515;\" />\n",
    "\n",
    "## Congratulations! You have finished Homework 5A!"
   ]
  },
  {
   "cell_type": "markdown",
   "metadata": {},
   "source": [
    "### Submission Instructions\n",
    "\n",
    "Below, you will see two cells.\n",
    "* Running the first cell will automatically generate a PDF of your answers to all questions that need to be manually graded.\n",
    "* Running the second cell will automatically generate a zip with your autograded answers.\n",
    "\n",
    "**You are responsible for combining this resulting Homework 5A PDF with your answers to Homework 5B**, then submitting **both** the coding and written portions of Homework 5 to their respective Gradescope portals:\n",
    "* **Homework 05 Coding**: Submit your Jupyter notebook zip file for Homework 5A,\n",
    "which can be generated and downloaded from DataHub by using the `grader.export()`\n",
    "cell provided below.\n",
    "* **Homework 05 Written**: Submit a single PDF to Gradescope that contains both\n",
    "(1) your answers to all manually graded questions from this Homework 5A Jupyter\n",
    "Notebook, and (2) your answers to all questions in Homework 5B.\n",
    "\n",
    "To receive credit on this assignment, **you must submit both your coding and written\n",
    "portions to their respective Gradescope portals.** Your written submission (a single\n",
    "PDF) can be generated as follows:\n",
    "\n",
    "1. Access your answers to manually graded Homework 5A  questions in one of three ways:\n",
    "      * <b>*Automatically create PDF (recommended)*</b>: Run the first cell below and download the generated PDF. This function will extract your response to the manually graded questions and put them on separate page. This process may fail if your answer is not properly formatted; if this is the case, check out common errors and solution described on Ed or follow either of the two ways described below.\n",
    "      * *Manually download PDF*: If there are issues with automatically generating the PDF in the first cell, you can try downloading the notebook as a PDF by clicking on `File -> Save and Export Notebook As... -> PDF`. If you choose to go this route, you must take special care to ensure all appropriate pages are chosen for each question on Gradescope.\n",
    "      * *Take screenshots*: If that doesn't work either, you can take screenshots of your answers (and your code if present) to manually graded questions and include them as images in a PDF. The manually graded questions are listed at the top of the Homework 1A notebook.\n",
    "    \n",
    "1. Answer the Homework 1B written questions.\n",
    "\n",
    "1. Combine these two sets of answers together into the same PDF, and submit to the appropriate Gradescope written portal. You can use PDF merging tools, e.g., [Adobe Reader](https://get.adobe.com/reader/), [Smallpdf](https://smallpdf.com/merge-pdf) or [Apple Preview](https://support.apple.com/en-us/HT202945).\n",
    "\n",
    "1. **Important**: When submitting on Gradescope, you **must tag pages to each question correctly** (it prompts you to do this after submitting your work). This significantly streamlines the grading process for our readers. Failure to do this may result in a score of 0 for untagged questions.\n",
    "\n",
    "**You are responsible for ensuring your submission follows our requirements. We will not be granting regrade requests nor extensions to submissions that don't follow instructions.** If you encounter any difficulties with submission, please don't hesitate to reach out to staff prior to the deadline."
   ]
  },
  {
   "cell_type": "code",
   "execution_count": 21,
   "metadata": {
    "deletable": false,
    "tags": []
   },
   "outputs": [
    {
     "data": {
      "text/html": [
       "Download your PDF <a href='hw05.pdf' download>here</a>."
      ],
      "text/plain": [
       "<IPython.core.display.HTML object>"
      ]
     },
     "metadata": {},
     "output_type": "display_data"
    }
   ],
   "source": [
    "from otter.export import export_notebook\n",
    "from os import path\n",
    "from IPython.display import display, HTML\n",
    "export_notebook(\"hw05.ipynb\", filtering=True, pagebreaks=True)\n",
    "if(path.exists('hw05.pdf')):\n",
    "    display(HTML(\"Download your PDF <a href='hw05.pdf' download>here</a>.\"))\n",
    "else:\n",
    "    print(\"\\n Pdf generation fails, please try the other methods described above\")"
   ]
  },
  {
   "cell_type": "markdown",
   "metadata": {
    "deletable": false,
    "editable": false
   },
   "source": [
    "## Submission\n",
    "\n",
    "Make sure you have run all cells in your notebook in order before running the cell below, so that all images/graphs appear in the output. The cell below will generate a zip file for you to submit. **Please save before exporting!**"
   ]
  },
  {
   "cell_type": "code",
   "execution_count": 22,
   "metadata": {
    "deletable": false,
    "editable": false
   },
   "outputs": [
    {
     "name": "stdout",
     "output_type": "stream",
     "text": [
      "Running your submission against local test cases...\n",
      "\n",
      "Your submission received the following results when run against available test cases:\n",
      "\n",
      "    q1ai results: All test cases passed!\n",
      "\n",
      "    q1aii results: All test cases passed!\n",
      "\n",
      "    q1aiii results: All test cases passed!\n",
      "\n",
      "    q1bi results: All test cases passed!\n",
      "\n",
      "    q1bii results: All test cases passed!\n",
      "\n",
      "    q1biii results: All test cases passed!\n",
      "\n",
      "    q1biv results: All test cases passed!\n",
      "\n",
      "    q2a results: All test cases passed!\n"
     ]
    },
    {
     "data": {
      "text/html": [
       "\n",
       "            <p>Your submission has been exported. Click <a href=\"hw05_2023_02_25T03_59_48_871174.zip\" download=\"hw05_2023_02_25T03_59_48_871174.zip\" target=\"_blank\">here</a>\n",
       "            to download the zip file.</p>\n",
       "            "
      ],
      "text/plain": [
       "<IPython.core.display.HTML object>"
      ]
     },
     "metadata": {},
     "output_type": "display_data"
    }
   ],
   "source": [
    "# Save your notebook first, then run this cell to export your submission.\n",
    "grader.export(run_tests=True)"
   ]
  },
  {
   "cell_type": "markdown",
   "metadata": {},
   "source": [
    " "
   ]
  }
 ],
 "metadata": {
  "kernelspec": {
   "display_name": "Python 3 (ipykernel)",
   "language": "python",
   "name": "python3"
  },
  "language_info": {
   "codemirror_mode": {
    "name": "ipython",
    "version": 3
   },
   "file_extension": ".py",
   "mimetype": "text/x-python",
   "name": "python",
   "nbconvert_exporter": "python",
   "pygments_lexer": "ipython3",
   "version": "3.9.0"
  },
  "otter": {
   "OK_FORMAT": true,
   "tests": {
    "q1ai": {
     "name": "q1ai",
     "points": 1,
     "suites": [
      {
       "cases": [
        {
         "code": ">>> assert q1ai.upper() in ['A', 'B', 'C', 'D', 'E']\n",
         "hidden": false,
         "locked": false,
         "points": 0
        }
       ],
       "scored": true,
       "setup": "",
       "teardown": "",
       "type": "doctest"
      }
     ]
    },
    "q1aii": {
     "name": "q1aii",
     "points": 1,
     "suites": [
      {
       "cases": [
        {
         "code": ">>> assert q1aii.upper() in ['A', 'B', 'C', 'D', 'E']\n",
         "hidden": false,
         "locked": false,
         "points": 0
        }
       ],
       "scored": true,
       "setup": "",
       "teardown": "",
       "type": "doctest"
      }
     ]
    },
    "q1aiii": {
     "name": "q1aiii",
     "points": 1,
     "suites": [
      {
       "cases": [
        {
         "code": ">>> assert q1biii.upper() in ['A', 'B', 'C', 'D', 'E']\n",
         "hidden": false,
         "locked": false,
         "points": 0
        }
       ],
       "scored": true,
       "setup": "",
       "teardown": "",
       "type": "doctest"
      }
     ]
    },
    "q1bi": {
     "name": "q1bi",
     "points": 1,
     "suites": [
      {
       "cases": [
        {
         "code": ">>> assert q1bi.upper() in ['A', 'B', 'C', 'D', 'E']\n",
         "hidden": false,
         "locked": false,
         "points": 0
        }
       ],
       "scored": true,
       "setup": "",
       "teardown": "",
       "type": "doctest"
      }
     ]
    },
    "q1bii": {
     "name": "q1bii",
     "points": 1,
     "suites": [
      {
       "cases": [
        {
         "code": ">>> assert q1bii.upper() in ['A', 'B', 'C', 'D', 'E']\n",
         "hidden": false,
         "locked": false,
         "points": 0
        }
       ],
       "scored": true,
       "setup": "",
       "teardown": "",
       "type": "doctest"
      }
     ]
    },
    "q1biii": {
     "name": "q1biii",
     "points": 1,
     "suites": [
      {
       "cases": [
        {
         "code": ">>> assert q1biii.upper() in ['A', 'B', 'C', 'D', 'E']\n",
         "hidden": false,
         "locked": false,
         "points": 0
        }
       ],
       "scored": true,
       "setup": "",
       "teardown": "",
       "type": "doctest"
      }
     ]
    },
    "q1biv": {
     "name": "q1biv",
     "points": 1,
     "suites": [
      {
       "cases": [
        {
         "code": ">>> assert q1biv.upper() in ['A', 'B', 'C', 'D', 'E']\n",
         "hidden": false,
         "locked": false,
         "points": 0
        }
       ],
       "scored": true,
       "setup": "",
       "teardown": "",
       "type": "doctest"
      }
     ]
    },
    "q2a": {
     "name": "q2a",
     "points": 2,
     "suites": [
      {
       "cases": [
        {
         "code": ">>> assert all(samples <= 1)\n>>> assert all(samples >= 0)\n>>> assert (len(samples) == 1000)\n",
         "hidden": false,
         "locked": false,
         "points": 1
        }
       ],
       "scored": true,
       "setup": "",
       "teardown": "",
       "type": "doctest"
      }
     ]
    }
   }
  }
 },
 "nbformat": 4,
 "nbformat_minor": 4
}
